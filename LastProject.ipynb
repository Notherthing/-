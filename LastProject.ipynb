{
 "cells": [
  {
   "cell_type": "markdown",
   "id": "0b142b75",
   "metadata": {},
   "source": [
    "# 1 导入库"
   ]
  },
  {
   "cell_type": "code",
   "execution_count": 60,
   "id": "9031d5a4",
   "metadata": {},
   "outputs": [],
   "source": [
    "import pandas as pd\n",
    "from sklearn.model_selection import train_test_split\n",
    "import numpy as np\n",
    "from collections import Counter\n",
    "import tensorflow as tf\n",
    "from sklearn.cluster import KMeans\n",
    "import os\n",
    "import pickle\n",
    "import re\n",
    "from tensorflow.python.ops import math_ops\n",
    "\n",
    "from urllib.request import urlretrieve\n",
    "from os.path import isfile, isdir\n",
    "from tqdm import tqdm\n",
    "import zipfile\n",
    "import hashlib\n",
    "\n",
    "from gensim.models import word2vec\n",
    "import gensim\n",
    "import math\n",
    "from math import sqrt\n",
    "import matplotlib.pyplot as plt\n",
    "from collections import defaultdict"
   ]
  },
  {
   "cell_type": "markdown",
   "id": "2161b14a",
   "metadata": {},
   "source": [
    "# 2 下载数据"
   ]
  },
  {
   "cell_type": "code",
   "execution_count": 4,
   "id": "1d5e4804",
   "metadata": {},
   "outputs": [],
   "source": [
    "def _unzip(save_path, _, database_name, data_path):\n",
    "    \"\"\"\n",
    "    Unzip wrapper with the same interface as _ungzip\n",
    "    :param save_path: The path of the gzip files\n",
    "    :param database_name: Name of database\n",
    "    :param data_path: Path to extract to\n",
    "    :param _: HACK - Used to have to same interface as _ungzip\n",
    "    \"\"\"\n",
    "    print('Extracting {}...'.format(database_name))\n",
    "    with zipfile.ZipFile(save_path) as zf:\n",
    "        zf.extractall(data_path)\n",
    "\n",
    "def download_extract(database_name, data_path):\n",
    "    \"\"\"\n",
    "    Download and extract database\n",
    "    :param database_name: Database name\n",
    "    \"\"\"\n",
    "    DATASET_ML1M = 'ml-1m'\n",
    "\n",
    "    if database_name == DATASET_ML1M:\n",
    "        url = 'http://files.grouplens.org/datasets/movielens/ml-1m.zip'\n",
    "        hash_code = 'c4d9eecfca2ab87c1945afe126590906'\n",
    "        extract_path = os.path.join(data_path, 'ml-1m')\n",
    "        save_path = os.path.join(data_path, 'ml-1m.zip')\n",
    "        extract_fn = _unzip\n",
    "\n",
    "    if os.path.exists(extract_path):\n",
    "        print('Found {} Data'.format(database_name))\n",
    "        return\n",
    "\n",
    "    if not os.path.exists(data_path):\n",
    "        os.makedirs(data_path)\n",
    "\n",
    "    if not os.path.exists(save_path):\n",
    "        with DLProgress(unit='B', unit_scale=True, miniters=1, desc='Downloading {}'.format(database_name)) as pbar:\n",
    "            urlretrieve(\n",
    "                url,\n",
    "                save_path,\n",
    "                pbar.hook)\n",
    "\n",
    "    assert hashlib.md5(open(save_path, 'rb').read()).hexdigest() == hash_code, \\\n",
    "        '{} file is corrupted.  Remove the file and try again.'.format(save_path)\n",
    "\n",
    "    os.makedirs(extract_path)\n",
    "    try:\n",
    "        extract_fn(save_path, extract_path, database_name, data_path)\n",
    "    except Exception as err:\n",
    "        shutil.rmtree(extract_path)  # Remove extraction folder if there is an error\n",
    "        raise err\n",
    "\n",
    "    print('Done.')\n",
    "    # Remove compressed data\n",
    "#     os.remove(save_path)\n",
    "class DLProgress(tqdm):\n",
    "    \"\"\"\n",
    "    Handle Progress Bar while Downloading\n",
    "    \"\"\"\n",
    "    last_block = 0\n",
    "\n",
    "    def hook(self, block_num=1, block_size=1, total_size=None):\n",
    "        \"\"\"\n",
    "        A hook function that will be called once on establishment of the network connection and\n",
    "        once after each block read thereafter.\n",
    "        :param block_num: A count of blocks transferred so far\n",
    "        :param block_size: Block size in bytes\n",
    "        :param total_size: The total size of the file. This may be -1 on older FTP servers which do not return\n",
    "                            a file size in response to a retrieval request.\n",
    "        \"\"\"\n",
    "        self.total = total_size\n",
    "        self.update((block_num - self.last_block) * block_size)\n",
    "        self.last_block = block_num"
   ]
  },
  {
   "cell_type": "code",
   "execution_count": 5,
   "id": "5378b937",
   "metadata": {},
   "outputs": [
    {
     "name": "stdout",
     "output_type": "stream",
     "text": [
      "Found ml-1m Data\n"
     ]
    }
   ],
   "source": [
    "data_dir = './'\n",
    "download_extract('ml-1m', data_dir)"
   ]
  },
  {
   "cell_type": "markdown",
   "id": "8068a9c4",
   "metadata": {},
   "source": [
    "# 3 分析数据"
   ]
  },
  {
   "cell_type": "markdown",
   "id": "faa1e210",
   "metadata": {},
   "source": [
    "## 3.1 分析用户数据"
   ]
  },
  {
   "cell_type": "code",
   "execution_count": 6,
   "id": "8a94423e",
   "metadata": {},
   "outputs": [],
   "source": [
    "users_title = ['UserID', 'Gender', 'Age', 'OccupationID', 'Zip-code']\n",
    "users = pd.read_csv('./ml-1m/users.dat', sep='::', header=None, names=users_title, engine = 'python')"
   ]
  },
  {
   "cell_type": "code",
   "execution_count": 7,
   "id": "c9df6f38",
   "metadata": {},
   "outputs": [
    {
     "data": {
      "text/html": [
       "<div>\n",
       "<style scoped>\n",
       "    .dataframe tbody tr th:only-of-type {\n",
       "        vertical-align: middle;\n",
       "    }\n",
       "\n",
       "    .dataframe tbody tr th {\n",
       "        vertical-align: top;\n",
       "    }\n",
       "\n",
       "    .dataframe thead th {\n",
       "        text-align: right;\n",
       "    }\n",
       "</style>\n",
       "<table border=\"1\" class=\"dataframe\">\n",
       "  <thead>\n",
       "    <tr style=\"text-align: right;\">\n",
       "      <th></th>\n",
       "      <th>UserID</th>\n",
       "      <th>Gender</th>\n",
       "      <th>Age</th>\n",
       "      <th>OccupationID</th>\n",
       "      <th>Zip-code</th>\n",
       "    </tr>\n",
       "  </thead>\n",
       "  <tbody>\n",
       "    <tr>\n",
       "      <th>0</th>\n",
       "      <td>1</td>\n",
       "      <td>F</td>\n",
       "      <td>1</td>\n",
       "      <td>10</td>\n",
       "      <td>48067</td>\n",
       "    </tr>\n",
       "    <tr>\n",
       "      <th>1</th>\n",
       "      <td>2</td>\n",
       "      <td>M</td>\n",
       "      <td>56</td>\n",
       "      <td>16</td>\n",
       "      <td>70072</td>\n",
       "    </tr>\n",
       "    <tr>\n",
       "      <th>2</th>\n",
       "      <td>3</td>\n",
       "      <td>M</td>\n",
       "      <td>25</td>\n",
       "      <td>15</td>\n",
       "      <td>55117</td>\n",
       "    </tr>\n",
       "    <tr>\n",
       "      <th>3</th>\n",
       "      <td>4</td>\n",
       "      <td>M</td>\n",
       "      <td>45</td>\n",
       "      <td>7</td>\n",
       "      <td>02460</td>\n",
       "    </tr>\n",
       "    <tr>\n",
       "      <th>4</th>\n",
       "      <td>5</td>\n",
       "      <td>M</td>\n",
       "      <td>25</td>\n",
       "      <td>20</td>\n",
       "      <td>55455</td>\n",
       "    </tr>\n",
       "  </tbody>\n",
       "</table>\n",
       "</div>"
      ],
      "text/plain": [
       "   UserID Gender  Age  OccupationID Zip-code\n",
       "0       1      F    1            10    48067\n",
       "1       2      M   56            16    70072\n",
       "2       3      M   25            15    55117\n",
       "3       4      M   45             7    02460\n",
       "4       5      M   25            20    55455"
      ]
     },
     "execution_count": 7,
     "metadata": {},
     "output_type": "execute_result"
    }
   ],
   "source": [
    "users.head(5)"
   ]
  },
  {
   "cell_type": "markdown",
   "id": "43a7548d",
   "metadata": {},
   "source": [
    "UserID 用户编号， Gender用户性别， Age用户年龄， OccupationID 职业编号\n",
    "- 年龄数据集用分段表示：\n",
    "\t*  1:  \"Under 18\"\n",
    "\t* 18:  \"18-24\"\n",
    "\t* 25:  \"25-34\"\n",
    "\t* 35:  \"35-44\"\n",
    "\t* 45:  \"45-49\"\n",
    "\t* 50:  \"50-55\"\n",
    "\t* 56:  \"56+\"\n",
    "- 职业编号如下：\n",
    "\t*  0:  \"other\" or not specified\n",
    "\t*  1:  \"academic/educator\"\n",
    "\t*  2:  \"artist\"\n",
    "\t*  3:  \"clerical/admin\"\n",
    "\t*  4:  \"college/grad student\"\n",
    "\t*  5:  \"customer service\"\n",
    "\t*  6:  \"doctor/health care\"\n",
    "\t*  7:  \"executive/managerial\"\n",
    "\t*  8:  \"farmer\"\n",
    "\t*  9:  \"homemaker\"\n",
    "\t* 10:  \"K-12 student\"\n",
    "\t* 11:  \"lawyer\"\n",
    "\t* 12:  \"programmer\"\n",
    "\t* 13:  \"retired\"\n",
    "\t* 14:  \"sales/marketing\"\n",
    "\t* 15:  \"scientist\"\n",
    "\t* 16:  \"self-employed\"\n",
    "\t* 17:  \"technician/engineer\"\n",
    "\t* 18:  \"tradesman/craftsman\"\n",
    "\t* 19:  \"unemployed\"\n",
    "\t* 20:  \"writer\""
   ]
  },
  {
   "cell_type": "code",
   "execution_count": 8,
   "id": "501922a9",
   "metadata": {},
   "outputs": [
    {
     "data": {
      "text/plain": [
       "6040"
      ]
     },
     "execution_count": 8,
     "metadata": {},
     "output_type": "execute_result"
    }
   ],
   "source": [
    "users.shape[0]"
   ]
  },
  {
   "cell_type": "markdown",
   "id": "af4b54f8",
   "metadata": {},
   "source": [
    "共有6040个用户"
   ]
  },
  {
   "cell_type": "markdown",
   "id": "9ec9dd28",
   "metadata": {},
   "source": [
    "## 3.2 分析电影数据"
   ]
  },
  {
   "cell_type": "code",
   "execution_count": 9,
   "id": "33bc362d",
   "metadata": {},
   "outputs": [],
   "source": [
    "movies_title = ['MovieID', 'Title', 'Genres']\n",
    "movies = pd.read_csv('./ml-1m/movies.dat', sep='::', header=None, names=movies_title, engine = 'python')"
   ]
  },
  {
   "cell_type": "code",
   "execution_count": 10,
   "id": "630f601c",
   "metadata": {},
   "outputs": [
    {
     "data": {
      "text/html": [
       "<div>\n",
       "<style scoped>\n",
       "    .dataframe tbody tr th:only-of-type {\n",
       "        vertical-align: middle;\n",
       "    }\n",
       "\n",
       "    .dataframe tbody tr th {\n",
       "        vertical-align: top;\n",
       "    }\n",
       "\n",
       "    .dataframe thead th {\n",
       "        text-align: right;\n",
       "    }\n",
       "</style>\n",
       "<table border=\"1\" class=\"dataframe\">\n",
       "  <thead>\n",
       "    <tr style=\"text-align: right;\">\n",
       "      <th></th>\n",
       "      <th>MovieID</th>\n",
       "      <th>Title</th>\n",
       "      <th>Genres</th>\n",
       "    </tr>\n",
       "  </thead>\n",
       "  <tbody>\n",
       "    <tr>\n",
       "      <th>0</th>\n",
       "      <td>1</td>\n",
       "      <td>Toy Story (1995)</td>\n",
       "      <td>Animation|Children's|Comedy</td>\n",
       "    </tr>\n",
       "    <tr>\n",
       "      <th>1</th>\n",
       "      <td>2</td>\n",
       "      <td>Jumanji (1995)</td>\n",
       "      <td>Adventure|Children's|Fantasy</td>\n",
       "    </tr>\n",
       "    <tr>\n",
       "      <th>2</th>\n",
       "      <td>3</td>\n",
       "      <td>Grumpier Old Men (1995)</td>\n",
       "      <td>Comedy|Romance</td>\n",
       "    </tr>\n",
       "    <tr>\n",
       "      <th>3</th>\n",
       "      <td>4</td>\n",
       "      <td>Waiting to Exhale (1995)</td>\n",
       "      <td>Comedy|Drama</td>\n",
       "    </tr>\n",
       "    <tr>\n",
       "      <th>4</th>\n",
       "      <td>5</td>\n",
       "      <td>Father of the Bride Part II (1995)</td>\n",
       "      <td>Comedy</td>\n",
       "    </tr>\n",
       "    <tr>\n",
       "      <th>...</th>\n",
       "      <td>...</td>\n",
       "      <td>...</td>\n",
       "      <td>...</td>\n",
       "    </tr>\n",
       "    <tr>\n",
       "      <th>3878</th>\n",
       "      <td>3948</td>\n",
       "      <td>Meet the Parents (2000)</td>\n",
       "      <td>Comedy</td>\n",
       "    </tr>\n",
       "    <tr>\n",
       "      <th>3879</th>\n",
       "      <td>3949</td>\n",
       "      <td>Requiem for a Dream (2000)</td>\n",
       "      <td>Drama</td>\n",
       "    </tr>\n",
       "    <tr>\n",
       "      <th>3880</th>\n",
       "      <td>3950</td>\n",
       "      <td>Tigerland (2000)</td>\n",
       "      <td>Drama</td>\n",
       "    </tr>\n",
       "    <tr>\n",
       "      <th>3881</th>\n",
       "      <td>3951</td>\n",
       "      <td>Two Family House (2000)</td>\n",
       "      <td>Drama</td>\n",
       "    </tr>\n",
       "    <tr>\n",
       "      <th>3882</th>\n",
       "      <td>3952</td>\n",
       "      <td>Contender, The (2000)</td>\n",
       "      <td>Drama|Thriller</td>\n",
       "    </tr>\n",
       "  </tbody>\n",
       "</table>\n",
       "<p>3883 rows × 3 columns</p>\n",
       "</div>"
      ],
      "text/plain": [
       "      MovieID                               Title  \\\n",
       "0           1                    Toy Story (1995)   \n",
       "1           2                      Jumanji (1995)   \n",
       "2           3             Grumpier Old Men (1995)   \n",
       "3           4            Waiting to Exhale (1995)   \n",
       "4           5  Father of the Bride Part II (1995)   \n",
       "...       ...                                 ...   \n",
       "3878     3948             Meet the Parents (2000)   \n",
       "3879     3949          Requiem for a Dream (2000)   \n",
       "3880     3950                    Tigerland (2000)   \n",
       "3881     3951             Two Family House (2000)   \n",
       "3882     3952               Contender, The (2000)   \n",
       "\n",
       "                            Genres  \n",
       "0      Animation|Children's|Comedy  \n",
       "1     Adventure|Children's|Fantasy  \n",
       "2                   Comedy|Romance  \n",
       "3                     Comedy|Drama  \n",
       "4                           Comedy  \n",
       "...                            ...  \n",
       "3878                        Comedy  \n",
       "3879                         Drama  \n",
       "3880                         Drama  \n",
       "3881                         Drama  \n",
       "3882                Drama|Thriller  \n",
       "\n",
       "[3883 rows x 3 columns]"
      ]
     },
     "execution_count": 10,
     "metadata": {},
     "output_type": "execute_result"
    }
   ],
   "source": [
    "movies"
   ]
  },
  {
   "cell_type": "markdown",
   "id": "259f9634",
   "metadata": {},
   "source": [
    "MovieID 电影编号，Title 电影名称， Genres类别\n",
    "- 电影类别有：\n",
    "\t* Action\n",
    "\t* Adventure\n",
    "\t* Animation\n",
    "\t* Children's\n",
    "\t* Comedy\n",
    "\t* Crime\n",
    "\t* Documentary\n",
    "\t* Drama\n",
    "\t* Fantasy\n",
    "\t* Film-Noir\n",
    "\t* Horror\n",
    "\t* Musical\n",
    "\t* Mystery\n",
    "\t* Romance\n",
    "\t* Sci-Fi\n",
    "\t* Thriller\n",
    "\t* War\n",
    "\t* Western"
   ]
  },
  {
   "cell_type": "code",
   "execution_count": 11,
   "id": "2f3f0c12",
   "metadata": {},
   "outputs": [
    {
     "data": {
      "text/plain": [
       "3883"
      ]
     },
     "execution_count": 11,
     "metadata": {},
     "output_type": "execute_result"
    }
   ],
   "source": [
    "movies.shape[0]"
   ]
  },
  {
   "cell_type": "markdown",
   "id": "974c1390",
   "metadata": {},
   "source": [
    "共收录了3883个电影"
   ]
  },
  {
   "cell_type": "markdown",
   "id": "be603b10",
   "metadata": {},
   "source": [
    "## 3.3 评分数据"
   ]
  },
  {
   "cell_type": "code",
   "execution_count": 12,
   "id": "20509ed6",
   "metadata": {},
   "outputs": [],
   "source": [
    "ratings_title = ['UserID','MovieID', 'Rating', 'timestamps']\n",
    "ratings = pd.read_csv('./ml-1m/ratings.dat', sep='::', header=None, names=ratings_title, engine = 'python')"
   ]
  },
  {
   "cell_type": "code",
   "execution_count": 13,
   "id": "0baec737",
   "metadata": {},
   "outputs": [
    {
     "data": {
      "text/html": [
       "<div>\n",
       "<style scoped>\n",
       "    .dataframe tbody tr th:only-of-type {\n",
       "        vertical-align: middle;\n",
       "    }\n",
       "\n",
       "    .dataframe tbody tr th {\n",
       "        vertical-align: top;\n",
       "    }\n",
       "\n",
       "    .dataframe thead th {\n",
       "        text-align: right;\n",
       "    }\n",
       "</style>\n",
       "<table border=\"1\" class=\"dataframe\">\n",
       "  <thead>\n",
       "    <tr style=\"text-align: right;\">\n",
       "      <th></th>\n",
       "      <th>UserID</th>\n",
       "      <th>MovieID</th>\n",
       "      <th>Rating</th>\n",
       "      <th>timestamps</th>\n",
       "    </tr>\n",
       "  </thead>\n",
       "  <tbody>\n",
       "    <tr>\n",
       "      <th>0</th>\n",
       "      <td>1</td>\n",
       "      <td>1193</td>\n",
       "      <td>5</td>\n",
       "      <td>978300760</td>\n",
       "    </tr>\n",
       "    <tr>\n",
       "      <th>1</th>\n",
       "      <td>1</td>\n",
       "      <td>661</td>\n",
       "      <td>3</td>\n",
       "      <td>978302109</td>\n",
       "    </tr>\n",
       "    <tr>\n",
       "      <th>2</th>\n",
       "      <td>1</td>\n",
       "      <td>914</td>\n",
       "      <td>3</td>\n",
       "      <td>978301968</td>\n",
       "    </tr>\n",
       "    <tr>\n",
       "      <th>3</th>\n",
       "      <td>1</td>\n",
       "      <td>3408</td>\n",
       "      <td>4</td>\n",
       "      <td>978300275</td>\n",
       "    </tr>\n",
       "    <tr>\n",
       "      <th>4</th>\n",
       "      <td>1</td>\n",
       "      <td>2355</td>\n",
       "      <td>5</td>\n",
       "      <td>978824291</td>\n",
       "    </tr>\n",
       "    <tr>\n",
       "      <th>...</th>\n",
       "      <td>...</td>\n",
       "      <td>...</td>\n",
       "      <td>...</td>\n",
       "      <td>...</td>\n",
       "    </tr>\n",
       "    <tr>\n",
       "      <th>115</th>\n",
       "      <td>2</td>\n",
       "      <td>480</td>\n",
       "      <td>5</td>\n",
       "      <td>978299809</td>\n",
       "    </tr>\n",
       "    <tr>\n",
       "      <th>116</th>\n",
       "      <td>2</td>\n",
       "      <td>1442</td>\n",
       "      <td>4</td>\n",
       "      <td>978299297</td>\n",
       "    </tr>\n",
       "    <tr>\n",
       "      <th>117</th>\n",
       "      <td>2</td>\n",
       "      <td>2067</td>\n",
       "      <td>5</td>\n",
       "      <td>978298625</td>\n",
       "    </tr>\n",
       "    <tr>\n",
       "      <th>118</th>\n",
       "      <td>2</td>\n",
       "      <td>1265</td>\n",
       "      <td>3</td>\n",
       "      <td>978299712</td>\n",
       "    </tr>\n",
       "    <tr>\n",
       "      <th>119</th>\n",
       "      <td>2</td>\n",
       "      <td>1370</td>\n",
       "      <td>5</td>\n",
       "      <td>978299889</td>\n",
       "    </tr>\n",
       "  </tbody>\n",
       "</table>\n",
       "<p>120 rows × 4 columns</p>\n",
       "</div>"
      ],
      "text/plain": [
       "     UserID  MovieID  Rating  timestamps\n",
       "0         1     1193       5   978300760\n",
       "1         1      661       3   978302109\n",
       "2         1      914       3   978301968\n",
       "3         1     3408       4   978300275\n",
       "4         1     2355       5   978824291\n",
       "..      ...      ...     ...         ...\n",
       "115       2      480       5   978299809\n",
       "116       2     1442       4   978299297\n",
       "117       2     2067       5   978298625\n",
       "118       2     1265       3   978299712\n",
       "119       2     1370       5   978299889\n",
       "\n",
       "[120 rows x 4 columns]"
      ]
     },
     "execution_count": 13,
     "metadata": {},
     "output_type": "execute_result"
    }
   ],
   "source": [
    "ratings.head(120)"
   ]
  },
  {
   "cell_type": "code",
   "execution_count": 14,
   "id": "fbf207a8",
   "metadata": {},
   "outputs": [
    {
     "data": {
      "text/plain": [
       "1000209"
      ]
     },
     "execution_count": 14,
     "metadata": {},
     "output_type": "execute_result"
    }
   ],
   "source": [
    "ratings.shape[0]"
   ]
  },
  {
   "cell_type": "markdown",
   "id": "fd70dd4a",
   "metadata": {},
   "source": [
    "共有一百万条评分信息，对于每个用户来说，平均每个用户记录了100+的电影评价信息"
   ]
  },
  {
   "cell_type": "markdown",
   "id": "f5fb3a7e",
   "metadata": {},
   "source": [
    "# 4 数据预处理"
   ]
  },
  {
   "cell_type": "markdown",
   "id": "20dfdf30",
   "metadata": {},
   "source": [
    "## 4.1 处理用户信息\n",
    "- 将用户的性别变为0，1(女性：0.男性：1)\n",
    "- 年龄：分别赋予成7个类别，改为数字 0-7\n",
    "- 职业信息不改变\n",
    "- 舍弃邮政编码信息"
   ]
  },
  {
   "cell_type": "code",
   "execution_count": 15,
   "id": "e2fc1f85",
   "metadata": {},
   "outputs": [
    {
     "data": {
      "text/html": [
       "<div>\n",
       "<style scoped>\n",
       "    .dataframe tbody tr th:only-of-type {\n",
       "        vertical-align: middle;\n",
       "    }\n",
       "\n",
       "    .dataframe tbody tr th {\n",
       "        vertical-align: top;\n",
       "    }\n",
       "\n",
       "    .dataframe thead th {\n",
       "        text-align: right;\n",
       "    }\n",
       "</style>\n",
       "<table border=\"1\" class=\"dataframe\">\n",
       "  <thead>\n",
       "    <tr style=\"text-align: right;\">\n",
       "      <th></th>\n",
       "      <th>UserID</th>\n",
       "      <th>Gender</th>\n",
       "      <th>Age</th>\n",
       "      <th>JobID</th>\n",
       "    </tr>\n",
       "  </thead>\n",
       "  <tbody>\n",
       "    <tr>\n",
       "      <th>0</th>\n",
       "      <td>1</td>\n",
       "      <td>0</td>\n",
       "      <td>0</td>\n",
       "      <td>10</td>\n",
       "    </tr>\n",
       "    <tr>\n",
       "      <th>1</th>\n",
       "      <td>2</td>\n",
       "      <td>1</td>\n",
       "      <td>5</td>\n",
       "      <td>16</td>\n",
       "    </tr>\n",
       "    <tr>\n",
       "      <th>2</th>\n",
       "      <td>3</td>\n",
       "      <td>1</td>\n",
       "      <td>6</td>\n",
       "      <td>15</td>\n",
       "    </tr>\n",
       "    <tr>\n",
       "      <th>3</th>\n",
       "      <td>4</td>\n",
       "      <td>1</td>\n",
       "      <td>2</td>\n",
       "      <td>7</td>\n",
       "    </tr>\n",
       "    <tr>\n",
       "      <th>4</th>\n",
       "      <td>5</td>\n",
       "      <td>1</td>\n",
       "      <td>6</td>\n",
       "      <td>20</td>\n",
       "    </tr>\n",
       "    <tr>\n",
       "      <th>...</th>\n",
       "      <td>...</td>\n",
       "      <td>...</td>\n",
       "      <td>...</td>\n",
       "      <td>...</td>\n",
       "    </tr>\n",
       "    <tr>\n",
       "      <th>6035</th>\n",
       "      <td>6036</td>\n",
       "      <td>0</td>\n",
       "      <td>6</td>\n",
       "      <td>15</td>\n",
       "    </tr>\n",
       "    <tr>\n",
       "      <th>6036</th>\n",
       "      <td>6037</td>\n",
       "      <td>0</td>\n",
       "      <td>2</td>\n",
       "      <td>1</td>\n",
       "    </tr>\n",
       "    <tr>\n",
       "      <th>6037</th>\n",
       "      <td>6038</td>\n",
       "      <td>0</td>\n",
       "      <td>5</td>\n",
       "      <td>1</td>\n",
       "    </tr>\n",
       "    <tr>\n",
       "      <th>6038</th>\n",
       "      <td>6039</td>\n",
       "      <td>0</td>\n",
       "      <td>2</td>\n",
       "      <td>0</td>\n",
       "    </tr>\n",
       "    <tr>\n",
       "      <th>6039</th>\n",
       "      <td>6040</td>\n",
       "      <td>1</td>\n",
       "      <td>6</td>\n",
       "      <td>6</td>\n",
       "    </tr>\n",
       "  </tbody>\n",
       "</table>\n",
       "<p>6040 rows × 4 columns</p>\n",
       "</div>"
      ],
      "text/plain": [
       "      UserID  Gender  Age  JobID\n",
       "0          1       0    0     10\n",
       "1          2       1    5     16\n",
       "2          3       1    6     15\n",
       "3          4       1    2      7\n",
       "4          5       1    6     20\n",
       "...      ...     ...  ...    ...\n",
       "6035    6036       0    6     15\n",
       "6036    6037       0    2      1\n",
       "6037    6038       0    5      1\n",
       "6038    6039       0    2      0\n",
       "6039    6040       1    6      6\n",
       "\n",
       "[6040 rows x 4 columns]"
      ]
     },
     "execution_count": 15,
     "metadata": {},
     "output_type": "execute_result"
    }
   ],
   "source": [
    "users_title = ['UserID', 'Gender', 'Age', 'JobID', 'Zip-code']\n",
    "users = pd.read_csv('./ml-1m/users.dat', sep='::', header=None, names=users_title, engine = 'python')\n",
    "users = users.filter(regex='UserID|Gender|Age|JobID')\n",
    "gender_map = {'F':0, 'M':1}\n",
    "users['Gender'] = users['Gender'].map(gender_map)\n",
    "age_map = {val:ii for ii,val in enumerate(set(users['Age']))}\n",
    "users['Age'] = users['Age'].map(age_map)\n",
    "users"
   ]
  },
  {
   "cell_type": "markdown",
   "id": "bc53c149",
   "metadata": {},
   "source": [
    "## 4.2 处理电影信息"
   ]
  },
  {
   "cell_type": "code",
   "execution_count": 16,
   "id": "e596c23a",
   "metadata": {},
   "outputs": [],
   "source": [
    "movies_title = ['MovieID', 'Title', 'Genres']\n",
    "movies = pd.read_csv('./ml-1m/movies.dat', sep='::', header=None, names=movies_title, engine = 'python')\n",
    "movies.drop(\"Title\",1,inplace=True)"
   ]
  },
  {
   "cell_type": "code",
   "execution_count": 183,
   "id": "2ec4a24f",
   "metadata": {},
   "outputs": [],
   "source": [
    "L_all = ['Action','Adventure','Animation','Children\\'s','Comedy','Crime','Documentary','Drama','Fantasy','Film-Noir','Horror',\n",
    "     'Musical','Mystery','Romance','Sci-Fi','Thriller','War','Western']\n",
    "genres_map=[]\n",
    "\n",
    "\n",
    "for val in movies['Genres'].str.split('|'):\n",
    "    temp=[]\n",
    "    for i in range(len(L_all)):\n",
    "        if(L_all[i] in val):\n",
    "            temp.append(1)\n",
    "        else:\n",
    "            temp.append(0)\n",
    "    genres_map.append(temp)\n",
    "\n",
    "movies['Genres'] =genres_map"
   ]
  },
  {
   "cell_type": "code",
   "execution_count": 184,
   "id": "974d9212",
   "metadata": {},
   "outputs": [
    {
     "data": {
      "text/html": [
       "<div>\n",
       "<style scoped>\n",
       "    .dataframe tbody tr th:only-of-type {\n",
       "        vertical-align: middle;\n",
       "    }\n",
       "\n",
       "    .dataframe tbody tr th {\n",
       "        vertical-align: top;\n",
       "    }\n",
       "\n",
       "    .dataframe thead th {\n",
       "        text-align: right;\n",
       "    }\n",
       "</style>\n",
       "<table border=\"1\" class=\"dataframe\">\n",
       "  <thead>\n",
       "    <tr style=\"text-align: right;\">\n",
       "      <th></th>\n",
       "      <th>MovieID</th>\n",
       "      <th>Genres</th>\n",
       "    </tr>\n",
       "  </thead>\n",
       "  <tbody>\n",
       "    <tr>\n",
       "      <th>0</th>\n",
       "      <td>1</td>\n",
       "      <td>[0, 0, 1, 1, 1, 0, 0, 0, 0, 0, 0, 0, 0, 0, 0, ...</td>\n",
       "    </tr>\n",
       "    <tr>\n",
       "      <th>1</th>\n",
       "      <td>2</td>\n",
       "      <td>[0, 1, 0, 1, 0, 0, 0, 0, 1, 0, 0, 0, 0, 0, 0, ...</td>\n",
       "    </tr>\n",
       "    <tr>\n",
       "      <th>2</th>\n",
       "      <td>3</td>\n",
       "      <td>[0, 0, 0, 0, 1, 0, 0, 0, 0, 0, 0, 0, 0, 1, 0, ...</td>\n",
       "    </tr>\n",
       "    <tr>\n",
       "      <th>3</th>\n",
       "      <td>4</td>\n",
       "      <td>[0, 0, 0, 0, 1, 0, 0, 1, 0, 0, 0, 0, 0, 0, 0, ...</td>\n",
       "    </tr>\n",
       "    <tr>\n",
       "      <th>4</th>\n",
       "      <td>5</td>\n",
       "      <td>[0, 0, 0, 0, 1, 0, 0, 0, 0, 0, 0, 0, 0, 0, 0, ...</td>\n",
       "    </tr>\n",
       "    <tr>\n",
       "      <th>...</th>\n",
       "      <td>...</td>\n",
       "      <td>...</td>\n",
       "    </tr>\n",
       "    <tr>\n",
       "      <th>3878</th>\n",
       "      <td>3948</td>\n",
       "      <td>[0, 0, 0, 0, 1, 0, 0, 0, 0, 0, 0, 0, 0, 0, 0, ...</td>\n",
       "    </tr>\n",
       "    <tr>\n",
       "      <th>3879</th>\n",
       "      <td>3949</td>\n",
       "      <td>[0, 0, 0, 0, 0, 0, 0, 1, 0, 0, 0, 0, 0, 0, 0, ...</td>\n",
       "    </tr>\n",
       "    <tr>\n",
       "      <th>3880</th>\n",
       "      <td>3950</td>\n",
       "      <td>[0, 0, 0, 0, 0, 0, 0, 1, 0, 0, 0, 0, 0, 0, 0, ...</td>\n",
       "    </tr>\n",
       "    <tr>\n",
       "      <th>3881</th>\n",
       "      <td>3951</td>\n",
       "      <td>[0, 0, 0, 0, 0, 0, 0, 1, 0, 0, 0, 0, 0, 0, 0, ...</td>\n",
       "    </tr>\n",
       "    <tr>\n",
       "      <th>3882</th>\n",
       "      <td>3952</td>\n",
       "      <td>[0, 0, 0, 0, 0, 0, 0, 1, 0, 0, 0, 0, 0, 0, 0, ...</td>\n",
       "    </tr>\n",
       "  </tbody>\n",
       "</table>\n",
       "<p>3883 rows × 2 columns</p>\n",
       "</div>"
      ],
      "text/plain": [
       "      MovieID                                             Genres\n",
       "0           1  [0, 0, 1, 1, 1, 0, 0, 0, 0, 0, 0, 0, 0, 0, 0, ...\n",
       "1           2  [0, 1, 0, 1, 0, 0, 0, 0, 1, 0, 0, 0, 0, 0, 0, ...\n",
       "2           3  [0, 0, 0, 0, 1, 0, 0, 0, 0, 0, 0, 0, 0, 1, 0, ...\n",
       "3           4  [0, 0, 0, 0, 1, 0, 0, 1, 0, 0, 0, 0, 0, 0, 0, ...\n",
       "4           5  [0, 0, 0, 0, 1, 0, 0, 0, 0, 0, 0, 0, 0, 0, 0, ...\n",
       "...       ...                                                ...\n",
       "3878     3948  [0, 0, 0, 0, 1, 0, 0, 0, 0, 0, 0, 0, 0, 0, 0, ...\n",
       "3879     3949  [0, 0, 0, 0, 0, 0, 0, 1, 0, 0, 0, 0, 0, 0, 0, ...\n",
       "3880     3950  [0, 0, 0, 0, 0, 0, 0, 1, 0, 0, 0, 0, 0, 0, 0, ...\n",
       "3881     3951  [0, 0, 0, 0, 0, 0, 0, 1, 0, 0, 0, 0, 0, 0, 0, ...\n",
       "3882     3952  [0, 0, 0, 0, 0, 0, 0, 1, 0, 0, 0, 0, 0, 0, 0, ...\n",
       "\n",
       "[3883 rows x 2 columns]"
      ]
     },
     "execution_count": 184,
     "metadata": {},
     "output_type": "execute_result"
    }
   ],
   "source": [
    "movies"
   ]
  },
  {
   "cell_type": "markdown",
   "id": "43c938ed",
   "metadata": {},
   "source": [
    "### 4.2.1聚类"
   ]
  },
  {
   "cell_type": "code",
   "execution_count": 185,
   "id": "7ae08897",
   "metadata": {},
   "outputs": [],
   "source": [
    "X=np.array(genres_map)\n",
    "km = KMeans(n_clusters=200).fit(X)\n",
    "# 标签结果\n",
    "rs_labels = km.labels_\n",
    "movies['Genres'] =rs_labels"
   ]
  },
  {
   "cell_type": "code",
   "execution_count": 186,
   "id": "b5c0ae27",
   "metadata": {},
   "outputs": [
    {
     "data": {
      "text/html": [
       "<div>\n",
       "<style scoped>\n",
       "    .dataframe tbody tr th:only-of-type {\n",
       "        vertical-align: middle;\n",
       "    }\n",
       "\n",
       "    .dataframe tbody tr th {\n",
       "        vertical-align: top;\n",
       "    }\n",
       "\n",
       "    .dataframe thead th {\n",
       "        text-align: right;\n",
       "    }\n",
       "</style>\n",
       "<table border=\"1\" class=\"dataframe\">\n",
       "  <thead>\n",
       "    <tr style=\"text-align: right;\">\n",
       "      <th></th>\n",
       "      <th>MovieID</th>\n",
       "      <th>Genres</th>\n",
       "    </tr>\n",
       "  </thead>\n",
       "  <tbody>\n",
       "    <tr>\n",
       "      <th>0</th>\n",
       "      <td>1</td>\n",
       "      <td>75</td>\n",
       "    </tr>\n",
       "    <tr>\n",
       "      <th>1</th>\n",
       "      <td>2</td>\n",
       "      <td>22</td>\n",
       "    </tr>\n",
       "    <tr>\n",
       "      <th>2</th>\n",
       "      <td>3</td>\n",
       "      <td>5</td>\n",
       "    </tr>\n",
       "    <tr>\n",
       "      <th>3</th>\n",
       "      <td>4</td>\n",
       "      <td>0</td>\n",
       "    </tr>\n",
       "    <tr>\n",
       "      <th>4</th>\n",
       "      <td>5</td>\n",
       "      <td>3</td>\n",
       "    </tr>\n",
       "    <tr>\n",
       "      <th>...</th>\n",
       "      <td>...</td>\n",
       "      <td>...</td>\n",
       "    </tr>\n",
       "    <tr>\n",
       "      <th>3878</th>\n",
       "      <td>3948</td>\n",
       "      <td>3</td>\n",
       "    </tr>\n",
       "    <tr>\n",
       "      <th>3879</th>\n",
       "      <td>3949</td>\n",
       "      <td>1</td>\n",
       "    </tr>\n",
       "    <tr>\n",
       "      <th>3880</th>\n",
       "      <td>3950</td>\n",
       "      <td>1</td>\n",
       "    </tr>\n",
       "    <tr>\n",
       "      <th>3881</th>\n",
       "      <td>3951</td>\n",
       "      <td>1</td>\n",
       "    </tr>\n",
       "    <tr>\n",
       "      <th>3882</th>\n",
       "      <td>3952</td>\n",
       "      <td>25</td>\n",
       "    </tr>\n",
       "  </tbody>\n",
       "</table>\n",
       "<p>3883 rows × 2 columns</p>\n",
       "</div>"
      ],
      "text/plain": [
       "      MovieID  Genres\n",
       "0           1      75\n",
       "1           2      22\n",
       "2           3       5\n",
       "3           4       0\n",
       "4           5       3\n",
       "...       ...     ...\n",
       "3878     3948       3\n",
       "3879     3949       1\n",
       "3880     3950       1\n",
       "3881     3951       1\n",
       "3882     3952      25\n",
       "\n",
       "[3883 rows x 2 columns]"
      ]
     },
     "execution_count": 186,
     "metadata": {},
     "output_type": "execute_result"
    }
   ],
   "source": [
    "movies"
   ]
  },
  {
   "cell_type": "markdown",
   "id": "f4044fe9",
   "metadata": {},
   "source": [
    "### 4.2.2 主成分分析"
   ]
  },
  {
   "cell_type": "code",
   "execution_count": 138,
   "id": "d6e696aa",
   "metadata": {},
   "outputs": [
    {
     "data": {
      "text/plain": [
       "array([[0, 0, 1, ..., 0, 0, 0],\n",
       "       [0, 1, 0, ..., 0, 0, 0],\n",
       "       [0, 0, 0, ..., 0, 0, 0],\n",
       "       ...,\n",
       "       [0, 0, 0, ..., 0, 0, 0],\n",
       "       [0, 0, 0, ..., 0, 0, 0],\n",
       "       [0, 0, 0, ..., 1, 0, 0]])"
      ]
     },
     "execution_count": 138,
     "metadata": {},
     "output_type": "execute_result"
    }
   ],
   "source": [
    "X=np.array(genres_map)\n",
    "X"
   ]
  },
  {
   "cell_type": "code",
   "execution_count": 137,
   "id": "5b0c5ba5",
   "metadata": {},
   "outputs": [
    {
     "data": {
      "text/plain": [
       "array([0.23271188, 0.16895203, 0.08742511, 0.0822061 , 0.07767275,\n",
       "       0.06302748, 0.04761725, 0.04061996, 0.03733275, 0.03523988,\n",
       "       0.02596828, 0.02071835, 0.02007116, 0.01728318, 0.01282514,\n",
       "       0.01208367, 0.01031404])"
      ]
     },
     "execution_count": 137,
     "metadata": {},
     "output_type": "execute_result"
    }
   ],
   "source": [
    "from sklearn.decomposition import PCA\n",
    "pca = PCA(n_components='mle')\n",
    "pca.fit(X)\n",
    "pca.explained_variance_ratio_"
   ]
  },
  {
   "cell_type": "markdown",
   "id": "8a739874",
   "metadata": {},
   "source": [
    "# 5 模型构建"
   ]
  },
  {
   "cell_type": "markdown",
   "id": "481cd743",
   "metadata": {},
   "source": [
    "## 5.1 决策树模型"
   ]
  },
  {
   "cell_type": "code",
   "execution_count": 187,
   "id": "89e40cc1",
   "metadata": {},
   "outputs": [],
   "source": [
    "class DTreeID3(object):\n",
    "\n",
    "    def __init__(self, epsilon=0.0001):\n",
    "        self.tree = Node()\n",
    "        self.epsilon = epsilon\n",
    "\n",
    "    def fit(self, X_train, Y_train):\n",
    "        A_recorder = np.arange(X_train.shape[1])\n",
    "        self._train(X_train, Y_train, self.tree, A_recorder)\n",
    "\n",
    "    def predict(self, X):\n",
    "        n = X.shape[0]\n",
    "        Y = np.zeros(n)\n",
    "        for i in range(n):\n",
    "            Y[i] = self.tree.predict_classification(X[i, :])\n",
    "        return Y\n",
    "\n",
    "    def visualization(self):\n",
    "        return self._visualization_dfs(self.tree)\n",
    "\n",
    "    def _train(self, A, D, node, AR):\n",
    "        # 1. 结束条件：若 D 中所有实例属于同一类，决策树成单节点树，直接返回\n",
    "        if np.any(np.bincount(D) == len(D)):\n",
    "            node.y = D[0]\n",
    "            return\n",
    "        # 2. 结束条件：若 A 为空，则返回单结点树 T，标记类别为样本默认输出最多的类别\n",
    "        if A.size == 0:\n",
    "            node.y = np.argmax(np.bincount(D))\n",
    "            return\n",
    "        # 3. 计算特征集 A 中各特征对 D 的信息增益，选择信息增益最大的特征 A_g\n",
    "        max_info_gain, g = self._feature_choose_standard(A, D)\n",
    "        # 4. 结束条件：如果 A_g 的信息增益小于阈值 epsilon，决策树成单节点树，直接返回\n",
    "        if max_info_gain <= self.epsilon:\n",
    "            node.y = np.argmax(np.bincount(D))\n",
    "            return\n",
    "        # 5. 对于 A_g 的每一可能值 a_i，依据 A_g = a_i 将 D 分割为若干非空子集 D_i，将当前结点的标记设为样本数最大的 D_i 对应\n",
    "            # 的类别，即对第 i 个子节点，以 D_i 为训练集，以 A - {A_g} 为特征集，递归调用以上步骤，得到子树 T_i，返回 T_i\n",
    "        node.label = AR[g]\n",
    "        a_cls = np.bincount(A[:, g])\n",
    "        new_A, AR = np.hstack((A[:, 0:g], A[:, g+1:])), np.hstack((AR[0:g], AR[g+1:]))\n",
    "        for k in range(len(a_cls)):\n",
    "            a_row_idxs = np.argwhere(A[:, g] == k).T[0].T\n",
    "            child = Node(k)\n",
    "            node.append(child)\n",
    "            A_child, D_child = new_A[a_row_idxs, :], D[a_row_idxs]\n",
    "            self._train(A_child, D_child, child, AR)\n",
    "\n",
    "    def _feature_choose_standard(self, A, D):\n",
    "        row, col = A.shape\n",
    "        prob = self._cal_prob(D)\n",
    "        prob = np.array([a if 0 < a <= 1 else 1 for a in prob])\n",
    "        entropy = -np.sum(prob * np.log2(prob))\n",
    "        max_info_gain_ratio = None\n",
    "        g = None\n",
    "        for j in range(col):\n",
    "            a_cls = np.bincount(A[:, j])\n",
    "            condition_entropy = 0\n",
    "            for k in range(len(a_cls)):\n",
    "                a_row_idxs = np.argwhere(A[:, j] == k)\n",
    "                # H(D)\n",
    "                prob = self._cal_prob(D[a_row_idxs].T[0])\n",
    "                prob = np.array([a if 0 < a <= 1 else 1 for a in prob])\n",
    "                H_D = -np.sum(prob * np.log2(prob))\n",
    "                # H(D|A)=SUM(p_i * H(D|A=a_i))\n",
    "                condition_entropy += a_cls[k] / np.sum(a_cls) * H_D\n",
    "            feature_choose_std = entropy - condition_entropy\n",
    "            if max_info_gain_ratio is None or max_info_gain_ratio < feature_choose_std:\n",
    "                max_info_gain_ratio = feature_choose_std\n",
    "                g = j\n",
    "        return max_info_gain_ratio, g\n",
    "\n",
    "    def _cal_prob(self, D):\n",
    "        statistic = np.bincount(D)\n",
    "        prob = statistic / np.sum(statistic)\n",
    "        return prob\n",
    "\n",
    "    def _visualization_dfs(self, node, layer=0):\n",
    "        prefix = '\\n' if layer else ''\n",
    "        output_str = [prefix + ' ' * 4 * layer, '%r+%r ' % (node.y, node.label)]\n",
    "        if not node.child:\n",
    "            return ''.join(output_str)\n",
    "        for child in node.child:\n",
    "            output_str.append(self._visualization_dfs(child, layer=layer + 1))\n",
    "        return ''.join(output_str)\n",
    "\n",
    "class DTreeC45(DTreeID3):\n",
    "\n",
    "    def _feature_choose_standard(self, A, D):\n",
    "        row, col = A.shape\n",
    "        prob = self._cal_prob(D)\n",
    "        prob = np.array([a if 0 < a <= 1 else 1 for a in prob])\n",
    "        entropy = -np.sum(prob * np.log2(prob))\n",
    "        max_info_gain_ratio = None\n",
    "        g = None\n",
    "        for j in range(col):\n",
    "            a_cls = np.bincount(A[:, j])\n",
    "            condition_entropy = 0\n",
    "            for k in range(len(a_cls)):\n",
    "                a_row_idxs = np.argwhere(A[:, j] == k)\n",
    "                # H(D) = -SUM(p_i * log(p_i))\n",
    "                prob = self._cal_prob(D[a_row_idxs].T[0])\n",
    "                prob = np.array([a if 0 < a <= 1 else 1 for a in prob])\n",
    "                H_D = -np.sum(prob * np.log2(prob))\n",
    "                # H(D|A)=SUM(p_i * H(D|A=a_i))\n",
    "                condition_entropy += a_cls[k] / np.sum(a_cls) * H_D\n",
    "            feature_choose_std = entropy / (condition_entropy + 0.0001)\n",
    "            if max_info_gain_ratio is None or max_info_gain_ratio < feature_choose_std:\n",
    "                max_info_gain_ratio = feature_choose_std\n",
    "                g = j\n",
    "        return max_info_gain_ratio, g\n",
    "\n",
    "class DTreeCART(DTreeID3):\n",
    "\n",
    "    def _train(self, A, D, node, AR):\n",
    "        self.visited_set = set()\n",
    "        self._train_helper(A, D, node, AR)\n",
    "\n",
    "    def _train_helper(self, A, D, node, AR):\n",
    "        # 1. 结束条件：若 D 中所有实例属于同一类，决策树成单节点树，直接返回\n",
    "        if np.any(np.bincount(D) == len(D)):\n",
    "            node.y = D[0]\n",
    "            return\n",
    "        # 2. 与 ID3, C4.5 不一样, 不会直接去掉 A\n",
    "        if A.size == 0:\n",
    "            node.y = np.argmax(np.bincount(D))\n",
    "            return\n",
    "        # 3. 与 ID3, C4.5 不一样, 不仅要确定最优切分特征，还要确定最优切分值\n",
    "        max_info_gain, g, v, a_idx, other_idx = self._feature_choose_standard(A, D)\n",
    "        if (g, v) in self.visited_set:\n",
    "            node.y = np.argmax(np.bincount(D))\n",
    "            return\n",
    "        self.visited_set.add((g, v))\n",
    "        # 4. 结束条件：如果 A_g 的信息增益小于阈值 epsilon，决策树成单节点树，直接返回\n",
    "        if max_info_gain <= self.epsilon:\n",
    "            node.y = np.argmax(np.bincount(D))\n",
    "            return\n",
    "        # 5. 与 ID3, C4.5 不一样, 不是 len(a_cls) 叉树，而是二叉树\n",
    "        node.label = AR[g]\n",
    "        idx_list = a_idx, other_idx\n",
    "        for k, row_idx in enumerate(idx_list):\n",
    "            row_idx = row_idx.T[0].T\n",
    "            child = Node(k)\n",
    "            node.append(child)\n",
    "            A_child, D_child = A[row_idx, :], D[row_idx]\n",
    "            self._train_helper(A_child, D_child, child, AR)\n",
    "\n",
    "    def _feature_choose_standard(self, A, D):\n",
    "        row, col = A.shape\n",
    "        min_gini, g, v, a_idx, other_idx = None, None, None, None, None\n",
    "        for j in range(col):\n",
    "            a_cls = np.bincount(A[:, j])\n",
    "            # 与 ID3, C4.5 不一样,不仅要确定最优切分特征，还要确定最优切分值\n",
    "            for k in range(len(a_cls)):\n",
    "                # 根据切分值划为两类\n",
    "                a_row_idxs, other_row_idxs = np.argwhere(A[:, j] == k), np.argwhere(A[:, j] != k)\n",
    "                # H(D) = -SUM(p_i * log(p_i))\n",
    "                a_prob, other_prob = self._cal_prob(D[a_row_idxs].T[0]), self._cal_prob(D[other_row_idxs].T[0])\n",
    "                a_gini_D, other_gini = 1 - np.sum(a_prob * a_prob), 1 - np.sum(other_prob * other_prob)\n",
    "                # H(D|A)=SUM(p_i * H(D|A=a_i))\n",
    "                gini_DA = a_cls[k] / np.sum(a_cls) * a_gini_D + (1 - a_cls[k] / np.sum(a_cls)) * other_gini\n",
    "                if min_gini is None or min_gini > gini_DA:\n",
    "                    min_gini, g, v, a_idx, other_idx = gini_DA, j, k, a_row_idxs, other_row_idxs\n",
    "\n",
    "        return min_gini, g, v, a_idx, other_idx\n",
    "\n",
    "class DTreeRegressionCART(object):\n",
    "\n",
    "    def __init__(self, max_depth=1):\n",
    "        self.tree = Node()\n",
    "        self.max_depth = max_depth\n",
    "\n",
    "    def fit(self, X_train, Y_train):\n",
    "        A_recorder = np.arange(X_train.shape[1])\n",
    "        self._train(X_train, Y_train, self.tree, A_recorder)\n",
    "\n",
    "    def predict(self, X):\n",
    "        n = X.shape[0]\n",
    "        Y = np.zeros(n)\n",
    "        for i in range(n):\n",
    "            Y[i] = self.tree.predict_regression(X[i, :])\n",
    "        return Y\n",
    "\n",
    "    def _train(self, A, D, node, AR, depth=0):\n",
    "        # 1. 结束条件：到最后一层 | A 或 D 一样\n",
    "        if depth == self.max_depth or np.all(D == D[0]) or np.all(A == A[0]):\n",
    "            node.y = np.mean(D)\n",
    "            return\n",
    "        # 2. 选择第j个变量A_j（切分变量splitting variable）和 切分点s（splitting point）\n",
    "        min_f, min_j, min_s, min_idx1, min_idx2 = None, None, None, None, None\n",
    "        row, col = A.shape\n",
    "        for j in range(col):\n",
    "            a_col = A[:, j]\n",
    "            # 这里实现比较简化，s 就直接取最值的平均数\n",
    "            s = (np.max(a_col) + np.min(a_col)) * 0.5\n",
    "            R1_idx, R2_idx = np.argwhere(a_col <= s).T[0], np.argwhere(a_col > s).T[0]\n",
    "            if R1_idx.size == 0 or R2_idx.size == 0:\n",
    "                continue\n",
    "            c1, c2 = np.mean(D[R1_idx]), np.mean(D[R2_idx])\n",
    "            f1, f2 = np.sum(np.square(D[R1_idx] - c1)), np.sum(np.square(D[R2_idx] - c2))\n",
    "            if min_f is None or min_f > f1 + f2:\n",
    "                min_f, min_j, min_s, min_idx1, min_idx2 = f1 + f2, j, s, R1_idx, R2_idx\n",
    "        if min_f is None:\n",
    "            node.y = np.mean(D)\n",
    "            return\n",
    "        # 3. 向下一层展开\n",
    "        node.label, node.s = AR[min_j], min_s\n",
    "        for i, idx_list in enumerate((min_idx1, min_idx2)):\n",
    "            child = Node(i)\n",
    "            node.append(child)\n",
    "            self._train(A[idx_list, :], D[idx_list], child, AR, depth+1)\n",
    "\n",
    "    def visualization(self):\n",
    "        return self._visualization_dfs(self.tree)\n",
    "\n",
    "    def _visualization_dfs(self, node, layer=0):\n",
    "        prefix = '\\n' if layer else ''\n",
    "        output_str = [prefix + ' ' * 4 * layer, '%r+%r+%r' % (node.y, node.label, node.s)]\n",
    "        if not node.child:\n",
    "            return ''.join(output_str)\n",
    "        for child in node.child:\n",
    "            output_str.append(self._visualization_dfs(child, layer=layer + 1))\n",
    "        return ''.join(output_str)\n",
    "\n",
    "class Node(object):\n",
    "\n",
    "    def __init__(self, x=None):\n",
    "        self.label = None\n",
    "        self.x = x\n",
    "        self.s = None  # Number\n",
    "        self.child = []\n",
    "        self.y = None\n",
    "        self.data = None\n",
    "\n",
    "    def append(self, child):\n",
    "        self.child.append(child)\n",
    "\n",
    "    def predict_classification(self, features):\n",
    "        if self.y is not None:\n",
    "            return self.y\n",
    "        for child in self.child:\n",
    "            if child.x == features[self.label]:\n",
    "                return child.predict_classification(features)\n",
    "        return self.child[1].predict_classification(features)\n",
    "\n",
    "    def predict_regression(self, features):\n",
    "        if self.y is not None:\n",
    "            return self.y\n",
    "        child_idx = 0 if features[self.label] <= self.s else 1\n",
    "        return self.child[child_idx].predict_regression(features)"
   ]
  },
  {
   "cell_type": "markdown",
   "id": "8a71a285",
   "metadata": {},
   "source": [
    "## 5.2随机森林"
   ]
  },
  {
   "cell_type": "code",
   "execution_count": 188,
   "id": "36f07ff0",
   "metadata": {},
   "outputs": [],
   "source": [
    "class RandomForest(object):\n",
    "\n",
    "    def __init__(self, tree_count=10):\n",
    "        self.tree_list = []\n",
    "        self.tree_count = tree_count\n",
    "\n",
    "    def fit(self, X_train, Y_train):\n",
    "        # Generate decision tree\n",
    "        for i in range(self.tree_count):\n",
    "            dt_CART = DTreeRegressionCART()\n",
    "            # Bagging data\n",
    "            n, m = X_train.shape\n",
    "            sample_idx = np.random.permutation(n)\n",
    "            feature_idx = np.random.permutation(m)[:int(np.sqrt(m))]\n",
    "            X_t_ = X_train[:, feature_idx]\n",
    "            X_t_, Y_t_ = X_t_[sample_idx, :], Y_train[sample_idx]\n",
    "            # Train\n",
    "            dt_CART.fit(X_t_, Y_t_)\n",
    "            self.tree_list.append((dt_CART, feature_idx))\n",
    "            print('=' * 10 + ' %r/%r tree trained ' % (i + 1, self.tree_count) + '=' * 10)\n",
    "            # print(dt_CART.visualization())\n",
    "\n",
    "    def predict(self, X):\n",
    "        output_matrix = np.zeros((self.tree_count, X.shape[0]))\n",
    "        output_label = np.zeros(X.shape[0])\n",
    "        for i, (tree, feature_idx) in enumerate(self.tree_list):\n",
    "            output_matrix[i, :] = tree.predict(X[:, feature_idx])\n",
    "        for col in range(output_matrix.shape[1]):\n",
    "            output_label[col] = np.argmax(np.bincount(output_matrix[:, col].astype(int)))\n",
    "        return output_label.astype(int)"
   ]
  },
  {
   "cell_type": "markdown",
   "id": "e2f6a4ce",
   "metadata": {},
   "source": [
    "## 5.3支持向量机"
   ]
  },
  {
   "cell_type": "code",
   "execution_count": 189,
   "id": "93478bb0",
   "metadata": {},
   "outputs": [],
   "source": [
    "class SVMModel(object):\n",
    "    \"\"\"\n",
    "    SVM model\n",
    "    \"\"\"\n",
    "    def __init__(self, max_iter=10000, kernel_type='linear', C=1.0, epsilon=0.00001):\n",
    "        self.max_iter = max_iter\n",
    "        self.kernel_type = kernel_type\n",
    "        self.kernel_func_list = {\n",
    "            'linear': self._kernel_linear,\n",
    "            'quadratic': self._kernel_quadratic,\n",
    "        }\n",
    "        self.kernel_func = self.kernel_func_list[kernel_type]\n",
    "        self.C = C\n",
    "        self.epsilon = epsilon\n",
    "        self.alpha = None\n",
    "\n",
    "    def fit(self, X_train, Y_train):\n",
    "        \"\"\"\n",
    "        Training model\n",
    "        :param X_train: shape = num_train, dim_feature\n",
    "        :param Y_train: shape = num_train, 1\n",
    "        :return: loss_history\n",
    "        \"\"\"\n",
    "        n, d = X_train.shape[0], X_train.shape[1]\n",
    "        self.alpha = np.zeros(n)\n",
    "        # Iteration\n",
    "        for i in range(self.max_iter):\n",
    "            diff = self._iteration(X_train, Y_train)\n",
    "            if i % 100 == 0:\n",
    "                print('Iter %r / %r, Diff %r' % (i, self.max_iter, diff))\n",
    "            if diff < self.epsilon:\n",
    "                break\n",
    "\n",
    "    def predict_raw(self, X):\n",
    "        return np.dot(self.w.T, X.T) + self.b\n",
    "\n",
    "    def predict(self, X):\n",
    "        #temp = np.sign(np.dot(self.w.T, X.T) + self.b).astype(int)\n",
    "        #l = len(temp)\n",
    "        #for i in range(l):\n",
    "        #   if temp[i]==-1:\n",
    "        #        temp[i] = 0\n",
    "        #return temp\n",
    "        return np.sign(np.dot(self.w.T, X.T) + self.b).astype(int)\n",
    "\n",
    "    def _iteration(self, X_train, Y_train):\n",
    "        alpha = self.alpha\n",
    "        alpha_prev = np.copy(alpha)\n",
    "        n = alpha.shape[0]\n",
    "        for j in range(n):\n",
    "            # Find i not equal to j randomly\n",
    "            i = j\n",
    "            for _ in range(1000):\n",
    "                if i != j:\n",
    "                    break\n",
    "                i = random.randint(0, n - 1)\n",
    "            x_i, x_j, y_i, y_j = X_train[i, :], X_train[j, :], Y_train[i], Y_train[j]\n",
    "            # Define the similarity of instances. K11 + K22 - 2K12\n",
    "            k_ij = self.kernel_func(x_i, x_i) + self.kernel_func(x_j, x_j) - 2 * self.kernel_func(x_i, x_j)\n",
    "            if k_ij == 0:\n",
    "                continue\n",
    "            a_i, a_j = alpha[i], alpha[j]\n",
    "            # Calculate the boundary of alpha\n",
    "            L, H = self._cal_L_H(self.C, a_j, a_i, y_j, y_i)\n",
    "            # Calculate model parameters\n",
    "            self.w = np.dot(X_train.T, np.multiply(alpha, Y_train))\n",
    "            self.b = np.mean(Y_train - np.dot(self.w.T, X_train.T))\n",
    "            # Iterate alpha_j and alpha_i according to 'Delta W(a_j)'\n",
    "            E_i = self.predict(x_i) - y_i\n",
    "            E_j = self.predict(x_j) - y_j\n",
    "            alpha[j] = a_j + (y_j * (E_i - E_j) * 1.0) / k_ij\n",
    "            alpha[j] = min(H, max(L, alpha[j]))\n",
    "            alpha[i] = a_i + y_i * y_j * (a_j - alpha[j])\n",
    "        diff = np.linalg.norm(alpha - alpha_prev)\n",
    "        return diff\n",
    "\n",
    "    def _kernel_linear(self, x1, x2):\n",
    "        return np.dot(x1, x2.T)\n",
    "\n",
    "    def _kernel_quadratic(self, x1, x2):\n",
    "        return np.dot(x1, x2.T) ** 2\n",
    "\n",
    "    def _cal_L_H(self, C, a_j, a_i, y_j, y_i):\n",
    "        if y_i != y_j:\n",
    "            L = max(0, a_j - a_i)\n",
    "            H = min(C, C - a_i + a_j)\n",
    "        else:\n",
    "            L = max(0, a_i + a_j - C)\n",
    "            H = min(C, a_i + a_j)\n",
    "        return L, H"
   ]
  },
  {
   "cell_type": "code",
   "execution_count": 190,
   "id": "a6884a65",
   "metadata": {},
   "outputs": [],
   "source": [
    "def getans(res):\n",
    "    for i in range(len(res)):\n",
    "        if res[i]== -1:\n",
    "            res[i]=0\n",
    "    return res"
   ]
  },
  {
   "cell_type": "markdown",
   "id": "9ce840a4",
   "metadata": {},
   "source": [
    "# 6 生成训练集和测试集"
   ]
  },
  {
   "cell_type": "code",
   "execution_count": 191,
   "id": "5b345a65",
   "metadata": {},
   "outputs": [],
   "source": [
    "movies_dic = {}\n",
    "for i in range(len(movies)):\n",
    "    movies_dic[movies['MovieID'][i]] = movies['Genres'][i]"
   ]
  },
  {
   "cell_type": "code",
   "execution_count": 192,
   "id": "f38be836",
   "metadata": {},
   "outputs": [],
   "source": [
    "users.drop(['UserID'],axis=1,inplace =True)"
   ]
  },
  {
   "cell_type": "code",
   "execution_count": 200,
   "id": "8a2ab40a",
   "metadata": {},
   "outputs": [],
   "source": [
    "X_train = []\n",
    "Y_train = []\n",
    "temp = []\n",
    "score = 3\n",
    "for i in range(len(ratings)//20):\n",
    "    #print(i)\n",
    "    temp = list(users.iloc[ratings['UserID'][i]-1])\n",
    "    temp.append(movies_dic[ratings['MovieID'][i]])\n",
    "    X_train.append(temp)\n",
    "    #if ratings['Rating'][i]>score:\n",
    "    #    Y_t.append(1)\n",
    "    #else:\n",
    "     #   Y_t.append(0)\n",
    "    Y_train.append(ratings['Rating'][i])\n",
    "X_train = np.array(X_t)\n",
    "Y_train = np.array(Y_t)"
   ]
  },
  {
   "cell_type": "code",
   "execution_count": 201,
   "id": "fee916d0",
   "metadata": {},
   "outputs": [
    {
     "data": {
      "text/plain": [
       "array([[ 0,  0, 10,  1],\n",
       "       [ 0,  0, 10, 18],\n",
       "       [ 0,  0, 10, 85],\n",
       "       ...,\n",
       "       [ 1,  6,  7,  5],\n",
       "       [ 1,  6,  7, 36],\n",
       "       [ 1,  6,  7,  5]])"
      ]
     },
     "execution_count": 201,
     "metadata": {},
     "output_type": "execute_result"
    }
   ],
   "source": [
    "X_train"
   ]
  },
  {
   "cell_type": "code",
   "execution_count": 202,
   "id": "5010a147",
   "metadata": {},
   "outputs": [
    {
     "data": {
      "text/plain": [
       "50010"
      ]
     },
     "execution_count": 202,
     "metadata": {},
     "output_type": "execute_result"
    }
   ],
   "source": [
    "len(X_train)"
   ]
  },
  {
   "cell_type": "code",
   "execution_count": 203,
   "id": "c085b728",
   "metadata": {},
   "outputs": [
    {
     "data": {
      "text/plain": [
       "array([5, 3, 3, ..., 4, 5, 4], dtype=int64)"
      ]
     },
     "execution_count": 203,
     "metadata": {},
     "output_type": "execute_result"
    }
   ],
   "source": [
    "Y_train"
   ]
  },
  {
   "cell_type": "code",
   "execution_count": 204,
   "id": "4d6e8e44",
   "metadata": {},
   "outputs": [
    {
     "data": {
      "text/plain": [
       "50010"
      ]
     },
     "execution_count": 204,
     "metadata": {},
     "output_type": "execute_result"
    }
   ],
   "source": [
    "len(Y_train)"
   ]
  },
  {
   "cell_type": "code",
   "execution_count": 205,
   "id": "ea7fe1ec",
   "metadata": {},
   "outputs": [],
   "source": [
    "X_test = []\n",
    "Y_test = []\n",
    "temp = []\n",
    "score = 3\n",
    "for i in range(len(ratings)//20,len(ratings)//20+len(ratings)//100):\n",
    "    #print(i)\n",
    "    temp = list(users.iloc[ratings['UserID'][i]-1])\n",
    "    temp.append(movies_dic[ratings['MovieID'][i]])\n",
    "    X_test.append(temp)\n",
    "    #if ratings['Rating'][i]>score:\n",
    "    #    Y_t.append(1)\n",
    "    #else:\n",
    "     #   Y_t.append(0)\n",
    "    Y_test.append(ratings['Rating'][i])\n",
    "X_test = np.array(X_t)\n",
    "Y_test = np.array(Y_t)"
   ]
  },
  {
   "cell_type": "markdown",
   "id": "16d22fc2",
   "metadata": {},
   "source": [
    "# 7 训练模型"
   ]
  },
  {
   "cell_type": "code",
   "execution_count": 198,
   "id": "cab3b50b",
   "metadata": {},
   "outputs": [
    {
     "name": "stdout",
     "output_type": "stream",
     "text": [
      "========== 1/10 tree trained ==========\n",
      "========== 2/10 tree trained ==========\n",
      "========== 3/10 tree trained ==========\n",
      "========== 4/10 tree trained ==========\n",
      "========== 5/10 tree trained ==========\n",
      "========== 6/10 tree trained ==========\n",
      "========== 7/10 tree trained ==========\n",
      "========== 8/10 tree trained ==========\n",
      "========== 9/10 tree trained ==========\n",
      "========== 10/10 tree trained ==========\n"
     ]
    }
   ],
   "source": [
    "model_rf = RandomForest()\n",
    "model_rf.fit(X_train,Y_train)"
   ]
  },
  {
   "cell_type": "code",
   "execution_count": 199,
   "id": "462268fc",
   "metadata": {},
   "outputs": [],
   "source": [
    "model_SVM = SVMModel()\n",
    "model_SVM.fit(X_train,Y_train)"
   ]
  },
  {
   "cell_type": "code",
   "execution_count": 224,
   "id": "1ffdb033",
   "metadata": {},
   "outputs": [
    {
     "name": "stdout",
     "output_type": "stream",
     "text": [
      "0.5730736272520542\n"
     ]
    }
   ],
   "source": [
    "ans = model_rf.predict(X_test)\n",
    "rmse(ans,Y_test)"
   ]
  },
  {
   "cell_type": "code",
   "execution_count": 216,
   "id": "cc9a63c9",
   "metadata": {},
   "outputs": [
    {
     "name": "stdout",
     "output_type": "stream",
     "text": [
      "1.0672966670822537\n"
     ]
    }
   ],
   "source": [
    "ans = model_SVM.predict(X_test)\n",
    "rmse(ans,Y_test)"
   ]
  },
  {
   "cell_type": "markdown",
   "id": "ffa7066e",
   "metadata": {},
   "source": [
    "# 8 利用sklearn与自己写的算法比较"
   ]
  },
  {
   "cell_type": "code",
   "execution_count": 31,
   "id": "f8359f6d",
   "metadata": {},
   "outputs": [],
   "source": [
    "from sklearn.tree import DecisionTreeClassifier\n",
    "from sklearn.ensemble import RandomForestClassifier\n",
    "from sklearn.datasets import load_wine\n"
   ]
  },
  {
   "cell_type": "code",
   "execution_count": 218,
   "id": "3b7d54d5",
   "metadata": {},
   "outputs": [],
   "source": [
    "clf = DecisionTreeClassifier(random_state=0)\n",
    "rfc = RandomForestClassifier(random_state=0)"
   ]
  },
  {
   "cell_type": "code",
   "execution_count": 219,
   "id": "784dcd21",
   "metadata": {},
   "outputs": [],
   "source": [
    "clf = clf.fit(X_train,Y_train)\n",
    "rfc = rfc.fit(X_train,Y_train)"
   ]
  },
  {
   "cell_type": "code",
   "execution_count": 220,
   "id": "637ec900",
   "metadata": {},
   "outputs": [],
   "source": [
    "ans = rfc.predict(X_test)"
   ]
  },
  {
   "cell_type": "code",
   "execution_count": 221,
   "id": "8d830633",
   "metadata": {},
   "outputs": [],
   "source": [
    "def rmse(Pre,Rea):\n",
    "    di2 = 0\n",
    "    for i in range(len(Pre)):\n",
    "        di2 += (Pre[i]-Rea[i])**2\n",
    "    return (di2/len(Pre))**0.5"
   ]
  },
  {
   "cell_type": "code",
   "execution_count": 225,
   "id": "c91e1443",
   "metadata": {},
   "outputs": [
    {
     "name": "stdout",
     "output_type": "stream",
     "text": [
      "0.465071927759054\n"
     ]
    }
   ],
   "source": [
    "rmse(ans,Y_test)"
   ]
  },
  {
   "cell_type": "code",
   "execution_count": 226,
   "id": "43bd7567",
   "metadata": {},
   "outputs": [
    {
     "name": "stdout",
     "output_type": "stream",
     "text": [
      "0.7287626761034435\n"
     ]
    }
   ],
   "source": [
    "ans = clf.predict(X_t)\n",
    "rmse(ans,Y_t)"
   ]
  },
  {
   "cell_type": "code",
   "execution_count": 176,
   "id": "c8514b8a",
   "metadata": {},
   "outputs": [],
   "source": [
    "from sklearn.svm import SVR"
   ]
  },
  {
   "cell_type": "code",
   "execution_count": 227,
   "id": "725e1eab",
   "metadata": {},
   "outputs": [
    {
     "name": "stdout",
     "output_type": "stream",
     "text": [
      "1.1437202675980986\n"
     ]
    }
   ],
   "source": [
    "svm_poly_reg1 = SVR(kernel=\"poly\", degree=2, C=100, epsilon=0.1)\n",
    "svm_poly_reg1.fit(X_t, Y_t)\n",
    "ans = svm_poly_reg1.predict(X_t)\n",
    "rmse(ans,Y_t)"
   ]
  },
  {
   "cell_type": "code",
   "execution_count": 155,
   "id": "96c7eace",
   "metadata": {},
   "outputs": [],
   "source": [
    "from sklearn.ensemble import GradientBoostingRegressor"
   ]
  },
  {
   "cell_type": "code",
   "execution_count": 228,
   "id": "171112de",
   "metadata": {},
   "outputs": [
    {
     "name": "stdout",
     "output_type": "stream",
     "text": [
      "0.4821576021847739\n"
     ]
    }
   ],
   "source": [
    "GBR = GradientBoostingRegressor()\n",
    "GBR.fit(X_t,Y_t)\n",
    "ans = GBR.predict(X_t)\n",
    "rmse(ans,Y_t)"
   ]
  },
  {
   "cell_type": "markdown",
   "id": "21892d9a",
   "metadata": {},
   "source": [
    "# 9 隐变量模型的效果"
   ]
  },
  {
   "cell_type": "code",
   "execution_count": 38,
   "id": "33253031",
   "metadata": {},
   "outputs": [],
   "source": [
    "U_id  = {}\n",
    "id_U  = {}\n",
    "B_id  = {}\n",
    "id_B  = {}\n",
    "def grade(df):\n",
    "    global U_id,id_U,B_id,id_B\n",
    "    for i in range(0,len(df)):\n",
    "        if df['user_id'][i] not in U_id:\n",
    "            U_id[df['user_id'][i]]=i\n",
    "            id_U[i]=df['user_id'][i]\n",
    "            df['user_id'][i]=i\n",
    "        else:\n",
    "            df['user_id'][i] = U_id[df['user_id'][i]]\n",
    "        if df['business_id'][i] not in B_id:\n",
    "            B_id[df['business_id'][i]]=i\n",
    "            id_B[i]=df['business_id'][i]\n",
    "            df['business_id'][i]=i\n",
    "        else:\n",
    "            df['business_id'][i]=B_id[df['business_id'][i]]\n",
    "    return df\n",
    "def grade_te(df):\n",
    "    for i in range(0,len(df)):\n",
    "        df['user_id'][i]=U_id[df['user_id'][i]]\n",
    "        df['business_id'][i]=B_id[df['business_id'][i]]\n",
    "    return df"
   ]
  },
  {
   "cell_type": "code",
   "execution_count": 51,
   "id": "bc6f0a38",
   "metadata": {},
   "outputs": [
    {
     "data": {
      "text/html": [
       "<div>\n",
       "<style scoped>\n",
       "    .dataframe tbody tr th:only-of-type {\n",
       "        vertical-align: middle;\n",
       "    }\n",
       "\n",
       "    .dataframe tbody tr th {\n",
       "        vertical-align: top;\n",
       "    }\n",
       "\n",
       "    .dataframe thead th {\n",
       "        text-align: right;\n",
       "    }\n",
       "</style>\n",
       "<table border=\"1\" class=\"dataframe\">\n",
       "  <thead>\n",
       "    <tr style=\"text-align: right;\">\n",
       "      <th></th>\n",
       "      <th>UserID</th>\n",
       "      <th>MovieID</th>\n",
       "      <th>Rating</th>\n",
       "      <th>timestamps</th>\n",
       "    </tr>\n",
       "  </thead>\n",
       "  <tbody>\n",
       "    <tr>\n",
       "      <th>0</th>\n",
       "      <td>1</td>\n",
       "      <td>1193</td>\n",
       "      <td>5</td>\n",
       "      <td>978300760</td>\n",
       "    </tr>\n",
       "    <tr>\n",
       "      <th>1</th>\n",
       "      <td>1</td>\n",
       "      <td>661</td>\n",
       "      <td>3</td>\n",
       "      <td>978302109</td>\n",
       "    </tr>\n",
       "    <tr>\n",
       "      <th>2</th>\n",
       "      <td>1</td>\n",
       "      <td>914</td>\n",
       "      <td>3</td>\n",
       "      <td>978301968</td>\n",
       "    </tr>\n",
       "    <tr>\n",
       "      <th>3</th>\n",
       "      <td>1</td>\n",
       "      <td>3408</td>\n",
       "      <td>4</td>\n",
       "      <td>978300275</td>\n",
       "    </tr>\n",
       "    <tr>\n",
       "      <th>4</th>\n",
       "      <td>1</td>\n",
       "      <td>2355</td>\n",
       "      <td>5</td>\n",
       "      <td>978824291</td>\n",
       "    </tr>\n",
       "    <tr>\n",
       "      <th>5</th>\n",
       "      <td>1</td>\n",
       "      <td>1197</td>\n",
       "      <td>3</td>\n",
       "      <td>978302268</td>\n",
       "    </tr>\n",
       "    <tr>\n",
       "      <th>6</th>\n",
       "      <td>1</td>\n",
       "      <td>1287</td>\n",
       "      <td>5</td>\n",
       "      <td>978302039</td>\n",
       "    </tr>\n",
       "    <tr>\n",
       "      <th>7</th>\n",
       "      <td>1</td>\n",
       "      <td>2804</td>\n",
       "      <td>5</td>\n",
       "      <td>978300719</td>\n",
       "    </tr>\n",
       "    <tr>\n",
       "      <th>8</th>\n",
       "      <td>1</td>\n",
       "      <td>594</td>\n",
       "      <td>4</td>\n",
       "      <td>978302268</td>\n",
       "    </tr>\n",
       "    <tr>\n",
       "      <th>9</th>\n",
       "      <td>1</td>\n",
       "      <td>919</td>\n",
       "      <td>4</td>\n",
       "      <td>978301368</td>\n",
       "    </tr>\n",
       "  </tbody>\n",
       "</table>\n",
       "</div>"
      ],
      "text/plain": [
       "   UserID  MovieID  Rating  timestamps\n",
       "0       1     1193       5   978300760\n",
       "1       1      661       3   978302109\n",
       "2       1      914       3   978301968\n",
       "3       1     3408       4   978300275\n",
       "4       1     2355       5   978824291\n",
       "5       1     1197       3   978302268\n",
       "6       1     1287       5   978302039\n",
       "7       1     2804       5   978300719\n",
       "8       1      594       4   978302268\n",
       "9       1      919       4   978301368"
      ]
     },
     "execution_count": 51,
     "metadata": {},
     "output_type": "execute_result"
    }
   ],
   "source": [
    "ratings.head(10)"
   ]
  },
  {
   "cell_type": "code",
   "execution_count": 84,
   "id": "a31a3a0b",
   "metadata": {},
   "outputs": [],
   "source": [
    "df_train = ratings.head(30010)"
   ]
  },
  {
   "cell_type": "code",
   "execution_count": 85,
   "id": "6c4b6e5c",
   "metadata": {},
   "outputs": [
    {
     "name": "stderr",
     "output_type": "stream",
     "text": [
      "F:\\Anaconda3\\lib\\site-packages\\pandas\\core\\frame.py:4308: SettingWithCopyWarning: \n",
      "A value is trying to be set on a copy of a slice from a DataFrame\n",
      "\n",
      "See the caveats in the documentation: https://pandas.pydata.org/pandas-docs/stable/user_guide/indexing.html#returning-a-view-versus-a-copy\n",
      "  return super().drop(\n"
     ]
    }
   ],
   "source": [
    "df_train.drop('timestamps',axis=1,inplace=True)"
   ]
  },
  {
   "cell_type": "code",
   "execution_count": 86,
   "id": "4960c1f5",
   "metadata": {},
   "outputs": [
    {
     "name": "stderr",
     "output_type": "stream",
     "text": [
      "F:\\Anaconda3\\lib\\site-packages\\pandas\\core\\frame.py:4441: SettingWithCopyWarning: \n",
      "A value is trying to be set on a copy of a slice from a DataFrame\n",
      "\n",
      "See the caveats in the documentation: https://pandas.pydata.org/pandas-docs/stable/user_guide/indexing.html#returning-a-view-versus-a-copy\n",
      "  return super().rename(\n"
     ]
    },
    {
     "data": {
      "text/html": [
       "<div>\n",
       "<style scoped>\n",
       "    .dataframe tbody tr th:only-of-type {\n",
       "        vertical-align: middle;\n",
       "    }\n",
       "\n",
       "    .dataframe tbody tr th {\n",
       "        vertical-align: top;\n",
       "    }\n",
       "\n",
       "    .dataframe thead th {\n",
       "        text-align: right;\n",
       "    }\n",
       "</style>\n",
       "<table border=\"1\" class=\"dataframe\">\n",
       "  <thead>\n",
       "    <tr style=\"text-align: right;\">\n",
       "      <th></th>\n",
       "      <th>user_id</th>\n",
       "      <th>business_id</th>\n",
       "      <th>stars</th>\n",
       "    </tr>\n",
       "  </thead>\n",
       "  <tbody>\n",
       "    <tr>\n",
       "      <th>0</th>\n",
       "      <td>1</td>\n",
       "      <td>1193</td>\n",
       "      <td>5</td>\n",
       "    </tr>\n",
       "    <tr>\n",
       "      <th>1</th>\n",
       "      <td>1</td>\n",
       "      <td>661</td>\n",
       "      <td>3</td>\n",
       "    </tr>\n",
       "    <tr>\n",
       "      <th>2</th>\n",
       "      <td>1</td>\n",
       "      <td>914</td>\n",
       "      <td>3</td>\n",
       "    </tr>\n",
       "    <tr>\n",
       "      <th>3</th>\n",
       "      <td>1</td>\n",
       "      <td>3408</td>\n",
       "      <td>4</td>\n",
       "    </tr>\n",
       "    <tr>\n",
       "      <th>4</th>\n",
       "      <td>1</td>\n",
       "      <td>2355</td>\n",
       "      <td>5</td>\n",
       "    </tr>\n",
       "    <tr>\n",
       "      <th>...</th>\n",
       "      <td>...</td>\n",
       "      <td>...</td>\n",
       "      <td>...</td>\n",
       "    </tr>\n",
       "    <tr>\n",
       "      <th>30005</th>\n",
       "      <td>202</td>\n",
       "      <td>2918</td>\n",
       "      <td>3</td>\n",
       "    </tr>\n",
       "    <tr>\n",
       "      <th>30006</th>\n",
       "      <td>202</td>\n",
       "      <td>1036</td>\n",
       "      <td>5</td>\n",
       "    </tr>\n",
       "    <tr>\n",
       "      <th>30007</th>\n",
       "      <td>202</td>\n",
       "      <td>430</td>\n",
       "      <td>3</td>\n",
       "    </tr>\n",
       "    <tr>\n",
       "      <th>30008</th>\n",
       "      <td>202</td>\n",
       "      <td>3578</td>\n",
       "      <td>5</td>\n",
       "    </tr>\n",
       "    <tr>\n",
       "      <th>30009</th>\n",
       "      <td>202</td>\n",
       "      <td>1974</td>\n",
       "      <td>4</td>\n",
       "    </tr>\n",
       "  </tbody>\n",
       "</table>\n",
       "<p>30010 rows × 3 columns</p>\n",
       "</div>"
      ],
      "text/plain": [
       "       user_id  business_id  stars\n",
       "0            1         1193      5\n",
       "1            1          661      3\n",
       "2            1          914      3\n",
       "3            1         3408      4\n",
       "4            1         2355      5\n",
       "...        ...          ...    ...\n",
       "30005      202         2918      3\n",
       "30006      202         1036      5\n",
       "30007      202          430      3\n",
       "30008      202         3578      5\n",
       "30009      202         1974      4\n",
       "\n",
       "[30010 rows x 3 columns]"
      ]
     },
     "execution_count": 86,
     "metadata": {},
     "output_type": "execute_result"
    }
   ],
   "source": [
    "df_train.rename(columns={'UserID':'user_id',\"MovieID\":'business_id',\"Rating\":\"stars\"},inplace=True)\n",
    "df_train"
   ]
  },
  {
   "cell_type": "code",
   "execution_count": 87,
   "id": "7c18cbdd",
   "metadata": {},
   "outputs": [
    {
     "name": "stderr",
     "output_type": "stream",
     "text": [
      "<ipython-input-87-8f7474cf6e9e>:1: SettingWithCopyWarning: \n",
      "A value is trying to be set on a copy of a slice from a DataFrame\n",
      "\n",
      "See the caveats in the documentation: https://pandas.pydata.org/pandas-docs/stable/user_guide/indexing.html#returning-a-view-versus-a-copy\n",
      "  tr_grade = grade(df_train)\n"
     ]
    }
   ],
   "source": [
    "tr_grade = grade(df_train)"
   ]
  },
  {
   "cell_type": "code",
   "execution_count": 88,
   "id": "89662261",
   "metadata": {},
   "outputs": [],
   "source": [
    "class LF:\n",
    "    def __init__(self,df,k,norm):\n",
    "        #先生成一个User_Business评分矩阵，这里先构建一个全0矩阵，稍后填充\n",
    "        self.UB = np.mat(np.zeros((int(df[['user_id']].max())+1,int(df[['business_id']].max())+1))) \n",
    "        #找到对B评论的所有U，和U评论的所有B\n",
    "        self.B_U = defaultdict(set)\n",
    "        self.U_B = defaultdict(set)\n",
    "        for i in range(0,len(df)):\n",
    "            user,business,stars =int(df['user_id'][i]),int(df['business_id'][i]),df['stars'][i]   \n",
    "            self.UB[user,business]=stars\n",
    "            self.B_U[business].add(user)\n",
    "            self.U_B[user].add(business)\n",
    "        self.k= k  #选取的k\n",
    "        self.norm = norm\n",
    "        #构建预测评分矩阵\n",
    "        self.User =  np.mat(np.random.uniform(sqrt(1/k),sqrt(5/k),(self.UB.shape[0],k)))\n",
    "        self.Business =  np.mat(np.random.uniform(sqrt(1/k),sqrt(5/k),(self.UB.shape[1],k)))\n",
    "        \n",
    "    #定义损失函数\n",
    "    def loss(self):\n",
    "        ret = self.norm * (np.sum(np.square(self.User)) + np.sum(np.square(self.Business)))\n",
    "        #User * Business 的转置\n",
    "        pred = self.User * self.Business.T \n",
    "        for i in range(self.UB.shape[0]):\n",
    "            for j in range(self.UB.shape[1]):\n",
    "                if self.UB[i,j] != 0:\n",
    "                    ret += (self.UB[i,j] - pred[i,j]) ** 2\n",
    "        return ret\n",
    "    \n",
    "    #梯度下降\n",
    "    #lr学习率，maxd最大迭代深度，th阈值\n",
    "    def grad_fit(self,lr = 0.01,maxd = 15,th = 100): \n",
    "        d = 0\n",
    "        x = []\n",
    "        loss_val = []\n",
    "        train_score = []\n",
    "        val_score = []\n",
    "        while d < maxd and self.loss() > th:\n",
    "            for uid in range(1,self.UB.shape[0]):\n",
    "                grad = 2 * self.norm * self.User[uid]\n",
    "                for bid in self.U_B[uid]:\n",
    "                    grad = grad - 2 * (self.UB[uid,bid] - self.User[uid] * self.Business[bid].T) * self.Business[bid] \n",
    "                self.User[uid] = self.User[uid] - lr * grad\n",
    "            for bid in range(1,self.UB.shape[1]):\n",
    "                grad = 2 * self.norm * self.Business[bid]\n",
    "                for uid in self.B_U[bid]:\n",
    "                    grad = grad - 2 * (self.UB[uid,bid] - self.User[uid] * self.Business[bid].T) * self.User[uid] \n",
    "                self.Business[bid] = self.Business[bid] - lr * grad\n",
    "            x.append(d)\n",
    "            loss_val.append(self.loss())\n",
    "            train_score.append(self.RMSE_score(tr_grade))\n",
    "            val_score.append(self.RMSE_score(tr_grade))\n",
    "            d += 1\n",
    "        return x,loss_val,train_score,val_score\n",
    "    \n",
    "    #交替最小二乘法\n",
    "    #maxd最大迭代深度，th阈值\n",
    "    def als_fit(self,maxd = 25,th = 100): \n",
    "        d = 0\n",
    "        x = []\n",
    "        loss_val = []\n",
    "        train_score = []\n",
    "        val_score = []\n",
    "        while d < maxd and self.loss() > th:\n",
    "            for uid in range(1,self.UB.shape[0]):\n",
    "                left = np.mat(np.zeros((1,self.k)))\n",
    "                right = np.mat(np.zeros((self.k,self.k)))\n",
    "                for bid in self.U_B[uid]:\n",
    "                    right += self.Business[bid].T * self.Business[bid]\n",
    "                    left += self.UB[uid,bid] * self.Business[bid]\n",
    "                right += self.norm * np.identity(self.k)\n",
    "                if abs(np.linalg.det(right)) < 1e-6:\n",
    "                    self.User[uid] = left * np.linalg.pinv(right + self.norm * np.identity(self.k)) \n",
    "                else:\n",
    "                    self.User[uid] = left * np.linalg.inv(right + self.norm * np.identity(self.k))  \n",
    "                #采用moore-penrose伪逆\n",
    "            for bid in range(1,self.UB.shape[1]):\n",
    "                left = np.mat(np.zeros((1,self.k)))\n",
    "                right = np.mat(np.zeros((self.k,self.k)))\n",
    "                for uid in self.B_U[bid]:\n",
    "                    right += self.User[uid].T * self.User[uid]\n",
    "                    left += self.UB[uid,bid] * self.User[uid]\n",
    "                right += self.norm * np.identity(self.k)\n",
    "                if abs(np.linalg.det(right)) < 1e-6:\n",
    "                    self.Business[bid] = left * np.linalg.pinv(right + self.norm * np.identity(self.k)) \n",
    "                else:\n",
    "                    self.Business[bid] = left * np.linalg.inv(right + self.norm * np.identity(self.k))  \n",
    "                #同上，采用moore-penrose伪逆\n",
    "            x.append(d)\n",
    "            loss_val.append(self.loss())\n",
    "            train_score.append(self.RMSE_score(tr_grade))\n",
    "            val_score.append(self.RMSE_score(tr_grade))\n",
    "            d += 1\n",
    "        return x,loss_val,train_score,val_score\n",
    "    \n",
    "    #计算评价指标RMSE\n",
    "    def RMSE_score(self,df):\n",
    "        r = 0\n",
    "        n = 0\n",
    "        pred = self.User * self.Business.T\n",
    "        for i in range(0,len(df)):\n",
    "            uid,bid,stars =int(df['user_id'][i]),int(df['business_id'][i]),df['stars'][i] \n",
    "            if uid < pred.shape[0] and bid < pred.shape[1]:\n",
    "                r += (pred[uid,bid] - stars) ** 2\n",
    "                n += 1\n",
    "        return sqrt(r/n)\n",
    "    \n",
    "    #预测结果\n",
    "    def pred(self,df_test):\n",
    "        ans = []\n",
    "        pred = self.User* self.Business.T\n",
    "        for idx,row in df_test.iterrows():\n",
    "            uid,bid = int(row['user_id']),int(row['business_id'])\n",
    "            if uid < pred.shape[0] and bid < pred.shape[1]:\n",
    "                ans.append(pred[uid,bid])\n",
    "            else:\n",
    "                ans.append(3)\n",
    "        return ans"
   ]
  },
  {
   "cell_type": "code",
   "execution_count": 89,
   "id": "bdc33a54",
   "metadata": {},
   "outputs": [],
   "source": [
    "model = LF(df=tr_grade,k=5,norm=0.01)"
   ]
  },
  {
   "cell_type": "code",
   "execution_count": 90,
   "id": "42fa28e0",
   "metadata": {},
   "outputs": [],
   "source": [
    "x,loss_val,train_score,val_score = model.grad_fit()"
   ]
  },
  {
   "cell_type": "code",
   "execution_count": 91,
   "id": "fe3f3403",
   "metadata": {},
   "outputs": [
    {
     "name": "stdout",
     "output_type": "stream",
     "text": [
      "0.262451647883004\n"
     ]
    }
   ],
   "source": [
    "model.RMSE_score(tr_grade)"
   ]
  }
 ],
 "metadata": {
  "kernelspec": {
   "display_name": "Python 3",
   "language": "python",
   "name": "python3"
  },
  "language_info": {
   "codemirror_mode": {
    "name": "ipython",
    "version": 3
   },
   "file_extension": ".py",
   "mimetype": "text/x-python",
   "name": "python",
   "nbconvert_exporter": "python",
   "pygments_lexer": "ipython3",
   "version": "3.8.8"
  }
 },
 "nbformat": 4,
 "nbformat_minor": 5
}
